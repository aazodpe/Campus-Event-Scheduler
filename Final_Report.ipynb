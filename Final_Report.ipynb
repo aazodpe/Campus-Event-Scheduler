{
 "cells": [
  {
   "cell_type": "code",
   "execution_count": null,
   "id": "8c228339-f960-4c7e-8b64-190c647491ed",
   "metadata": {},
   "outputs": [],
   "source": [
    "import sys\n",
    "import os\n",
    "\n",
    "sys.path.append(os.path.join(os.getcwd(), \"src\"))\n",
    "\n",
    "# Importing modules from the src folder\n",
    "import EventsList as E\n",
    "import LinkedList as LL\n",
    "import Sorting as S\n",
    "import Search_and_Conflict as SC\n",
    "\n",
    "\n",
    "\n",
    "import time\n",
    "import random\n",
    "import matplotlib.pyplot as plt\n"
   ]
  },
  {
   "cell_type": "code",
   "execution_count": null,
   "id": "2823d551",
   "metadata": {},
   "outputs": [],
   "source": [
    "# Any and all events you come across this project will be of the following structure:\n",
    "\n",
    "class Event:\n",
    "    def __init__(self, id, title, date, time, location):\n",
    "        self.id = id\n",
    "        self.title = title\n",
    "        self.date = date\n",
    "        self.time = time\n",
    "        self.location = location\n",
    "        self.next = None"
   ]
  },
  {
   "cell_type": "markdown",
   "id": "85cacbd9-9d49-4e5c-a8b1-16c69fb2dd5d",
   "metadata": {},
   "source": [
    "# Part A. Event Storage Structures"
   ]
  },
  {
   "cell_type": "markdown",
   "id": "950fea9f",
   "metadata": {},
   "source": [
    "### 1. Array-Based List Algorithm"
   ]
  },
  {
   "cell_type": "code",
   "execution_count": null,
   "id": "f5aae136-1ee4-4c91-a54f-838f9e8b2072",
   "metadata": {},
   "outputs": [
    {
     "data": {
      "text/plain": [
       "[{'id': 1,\n",
       "  'title': 'Orientation',\n",
       "  'date': '2025-11-10',\n",
       "  'time': '20:00',\n",
       "  'location': 'Campus'},\n",
       " {'id': 6,\n",
       "  'title': 'Concert',\n",
       "  'date': '2025-10-10',\n",
       "  'time': '20:00',\n",
       "  'location': 'Folsom Field'},\n",
       " {'id': 3,\n",
       "  'title': 'Football Game',\n",
       "  'date': '2025-10-01',\n",
       "  'time': '20:00',\n",
       "  'location': 'Stadium'},\n",
       " {'id': 101,\n",
       "  'title': 'Hackathon',\n",
       "  'date': '2025-11-15',\n",
       "  'time': '10:00',\n",
       "  'location': 'Auditorium'},\n",
       " {'id': 102,\n",
       "  'title': 'Math Exam',\n",
       "  'date': '2025-11-15',\n",
       "  'time': '10:30',\n",
       "  'location': 'Room 204'},\n",
       " {'id': 103,\n",
       "  'title': 'Music Night',\n",
       "  'date': '2025-11-16',\n",
       "  'time': '18:00',\n",
       "  'location': 'Main Hall'}]"
      ]
     },
     "execution_count": 3,
     "metadata": {},
     "output_type": "execute_result"
    }
   ],
   "source": [
    "\n",
    "# Initialize class \n",
    "events = E.Events_List()\n",
    "\n",
    "# Insert some events \n",
    "events.insert({\"id\": 1, \"title\": \"Orientation\", \"date\": \"2025-11-10\", \"time\": \"20:00\", \"location\": \"Campus\"})\n",
    "events.insert({\"id\": 6, \"title\": \"Concert\", \"date\": \"2025-10-10\", \"time\": \"20:00\", \"location\": \"Folsom Field\"})\n",
    "events.insert({\"id\": 3, \"title\": \"Football Game\", \"date\": \"2025-10-01\", \"time\": \"20:00\", \"location\": \"Stadium\"})\n",
    "events.insert({\"id\": 101, \"title\": \"Hackathon\", \"date\": \"2025-11-15\", \"time\": \"10:00\", \"location\": \"Auditorium\"})\n",
    "events.insert({\"id\": 102, \"title\": \"Math Exam\", \"date\": \"2025-11-15\", \"time\": \"10:30\", \"location\": \"Room 204\"})\n",
    "events.insert({\"id\": 103, \"title\": \"Music Night\", \"date\": \"2025-11-16\", \"time\": \"18:00\", \"location\": \"Main Hall\"})\n",
    "\n",
    "# list the events \n",
    "events.list_all()\n"
   ]
  },
  {
   "cell_type": "code",
   "execution_count": null,
   "id": "28f1011f-b818-4027-b8ca-81cb72955343",
   "metadata": {},
   "outputs": [
    {
     "data": {
      "text/plain": [
       "{'id': 6,\n",
       " 'title': 'Concert',\n",
       " 'date': '2025-10-10',\n",
       " 'time': '20:00',\n",
       " 'location': 'Folsom Field'}"
      ]
     },
     "execution_count": 4,
     "metadata": {},
     "output_type": "execute_result"
    }
   ],
   "source": [
    "# Search by ID\n",
    "events.search_by_id(6)"
   ]
  },
  {
   "cell_type": "code",
   "execution_count": null,
   "id": "4c4b6a2c-eb0e-4ef9-bd29-b3589fefaf49",
   "metadata": {},
   "outputs": [
    {
     "name": "stdout",
     "output_type": "stream",
     "text": [
      "Event 3 deleted.\n"
     ]
    },
    {
     "data": {
      "text/plain": [
       "[{'id': 1,\n",
       "  'title': 'Orientation',\n",
       "  'date': '2025-11-10',\n",
       "  'time': '20:00',\n",
       "  'location': 'Campus'},\n",
       " {'id': 6,\n",
       "  'title': 'Concert',\n",
       "  'date': '2025-10-10',\n",
       "  'time': '20:00',\n",
       "  'location': 'Folsom Field'},\n",
       " {'id': 101,\n",
       "  'title': 'Hackathon',\n",
       "  'date': '2025-11-15',\n",
       "  'time': '10:00',\n",
       "  'location': 'Auditorium'},\n",
       " {'id': 102,\n",
       "  'title': 'Math Exam',\n",
       "  'date': '2025-11-15',\n",
       "  'time': '10:30',\n",
       "  'location': 'Room 204'},\n",
       " {'id': 103,\n",
       "  'title': 'Music Night',\n",
       "  'date': '2025-11-16',\n",
       "  'time': '18:00',\n",
       "  'location': 'Main Hall'}]"
      ]
     },
     "execution_count": 5,
     "metadata": {},
     "output_type": "execute_result"
    }
   ],
   "source": [
    "# Delete an event\n",
    "events.delete(3)\n",
    "events.list_all()"
   ]
  },
  {
   "cell_type": "markdown",
   "id": "90205442",
   "metadata": {},
   "source": [
    "### 2. Singly Linked List"
   ]
  },
  {
   "cell_type": "code",
   "execution_count": null,
   "id": "a13a60ee",
   "metadata": {},
   "outputs": [
    {
     "name": "stdout",
     "output_type": "stream",
     "text": [
      "Orientation Campus 2025-10-10 20:00 12\n",
      "Concert Folsom Field 2025-10-10 20:00 6\n",
      "Football Game Stadium 2025-10-10 20:00 3\n"
     ]
    }
   ],
   "source": [
    "# Append events \n",
    "le = LL.LinkedEvents()\n",
    "le.append(12, \"Orientation\", \"2025-10-10\", \"20:00\", \"Campus\")\n",
    "le.append(6, \"Concert\", \"2025-10-10\", \"20:00\", \"Folsom Field\")\n",
    "le.append(3, \"Football Game\", \"2025-10-10\", \"20:00\", \"Stadium\")\n",
    "le.show_events()"
   ]
  },
  {
   "cell_type": "code",
   "execution_count": null,
   "id": "793a73bc",
   "metadata": {},
   "outputs": [
    {
     "name": "stdout",
     "output_type": "stream",
     "text": [
      "Football Game Stadium 2025-10-10 20:00 3\n",
      "1 events found with title: Football Game\n"
     ]
    }
   ],
   "source": [
    "# Search for events \n",
    "le.find_event(\"title\", \"Football Game\")"
   ]
  },
  {
   "cell_type": "code",
   "execution_count": null,
   "id": "c914afc8",
   "metadata": {},
   "outputs": [
    {
     "name": "stdout",
     "output_type": "stream",
     "text": [
      "3\n"
     ]
    }
   ],
   "source": [
    "# Count number of events\n",
    "le.event_count()"
   ]
  },
  {
   "cell_type": "markdown",
   "id": "ae728370",
   "metadata": {},
   "source": [
    "## Theoretical Complexities of Operations\n",
    "\n",
    "For the array based and linked list approaches, the functions' complexity depends only on whether the function must iterate through each event. For example, the insert function only needs to append the list, so the complexity is constant. However search_by_id needs to iterate through the list until it finds a match, so the complexity is linear. While we will go into greater depth on the nuanced differences between arrays and linked lists later, the theoretical complexities for each operations are as follows:\n",
    "\n",
    "### O(1):\n",
    "1. insert\n",
    "\n",
    "### O(n)\n",
    "1. List(all)\n",
    "2. delete\n",
    "3. search_by_id"
   ]
  },
  {
   "cell_type": "markdown",
   "id": "37c075d8-56c6-44d9-8ebb-0f8a9adfbd3a",
   "metadata": {},
   "source": [
    "# Part B. Sorting Events"
   ]
  },
  {
   "cell_type": "markdown",
   "id": "cb0b3b59",
   "metadata": {},
   "source": [
    "### Sorting on Arrays:"
   ]
  },
  {
   "cell_type": "code",
   "execution_count": null,
   "id": "ba736f3a",
   "metadata": {},
   "outputs": [
    {
     "data": {
      "text/plain": [
       "[{'id': 6,\n",
       "  'title': 'Concert',\n",
       "  'date': '2025-10-10',\n",
       "  'time': '20:00',\n",
       "  'location': 'Folsom Field'},\n",
       " {'id': 1,\n",
       "  'title': 'Orientation',\n",
       "  'date': '2025-11-10',\n",
       "  'time': '20:00',\n",
       "  'location': 'Campus'},\n",
       " {'id': 101,\n",
       "  'title': 'Hackathon',\n",
       "  'date': '2025-11-15',\n",
       "  'time': '10:00',\n",
       "  'location': 'Auditorium'},\n",
       " {'id': 102,\n",
       "  'title': 'Math Exam',\n",
       "  'date': '2025-11-15',\n",
       "  'time': '10:30',\n",
       "  'location': 'Room 204'},\n",
       " {'id': 103,\n",
       "  'title': 'Music Night',\n",
       "  'date': '2025-11-16',\n",
       "  'time': '18:00',\n",
       "  'location': 'Main Hall'}]"
      ]
     },
     "execution_count": 9,
     "metadata": {},
     "output_type": "execute_result"
    }
   ],
   "source": [
    "S.insertion_sort(events.data, 'date','time')"
   ]
  },
  {
   "cell_type": "code",
   "execution_count": null,
   "id": "60712f2b-ec6a-442e-8323-8214dffb8de8",
   "metadata": {},
   "outputs": [
    {
     "data": {
      "text/plain": [
       "[{'id': 6,\n",
       "  'title': 'Concert',\n",
       "  'date': '2025-10-10',\n",
       "  'time': '20:00',\n",
       "  'location': 'Folsom Field'},\n",
       " {'id': 1,\n",
       "  'title': 'Orientation',\n",
       "  'date': '2025-11-10',\n",
       "  'time': '20:00',\n",
       "  'location': 'Campus'},\n",
       " {'id': 101,\n",
       "  'title': 'Hackathon',\n",
       "  'date': '2025-11-15',\n",
       "  'time': '10:00',\n",
       "  'location': 'Auditorium'},\n",
       " {'id': 102,\n",
       "  'title': 'Math Exam',\n",
       "  'date': '2025-11-15',\n",
       "  'time': '10:30',\n",
       "  'location': 'Room 204'},\n",
       " {'id': 103,\n",
       "  'title': 'Music Night',\n",
       "  'date': '2025-11-16',\n",
       "  'time': '18:00',\n",
       "  'location': 'Main Hall'}]"
      ]
     },
     "execution_count": 10,
     "metadata": {},
     "output_type": "execute_result"
    }
   ],
   "source": [
    "S.merge_sort(events.data, 'date', 'time')\n"
   ]
  },
  {
   "cell_type": "code",
   "execution_count": null,
   "id": "3bba8564",
   "metadata": {},
   "outputs": [
    {
     "data": {
      "text/plain": [
       "[{'id': 6,\n",
       "  'title': 'Concert',\n",
       "  'date': '2025-10-10',\n",
       "  'time': '20:00',\n",
       "  'location': 'Folsom Field'},\n",
       " {'id': 1,\n",
       "  'title': 'Orientation',\n",
       "  'date': '2025-11-10',\n",
       "  'time': '20:00',\n",
       "  'location': 'Campus'},\n",
       " {'id': 101,\n",
       "  'title': 'Hackathon',\n",
       "  'date': '2025-11-15',\n",
       "  'time': '10:00',\n",
       "  'location': 'Auditorium'},\n",
       " {'id': 102,\n",
       "  'title': 'Math Exam',\n",
       "  'date': '2025-11-15',\n",
       "  'time': '10:30',\n",
       "  'location': 'Room 204'},\n",
       " {'id': 103,\n",
       "  'title': 'Music Night',\n",
       "  'date': '2025-11-16',\n",
       "  'time': '18:00',\n",
       "  'location': 'Main Hall'}]"
      ]
     },
     "execution_count": 11,
     "metadata": {},
     "output_type": "execute_result"
    }
   ],
   "source": [
    "S.quick_sort(events.data, 'date', 'time')"
   ]
  },
  {
   "cell_type": "markdown",
   "id": "cf0d0c71",
   "metadata": {},
   "source": [
    "### Sorting in Linked Lists:"
   ]
  },
  {
   "cell_type": "code",
   "execution_count": null,
   "id": "0a14c9c2",
   "metadata": {},
   "outputs": [
    {
     "name": "stdout",
     "output_type": "stream",
     "text": [
      "Events sorted by date\n",
      "Orientation Norlin Library 2025-02-11 06:11 910\n",
      "Hiking C4C 2025-09-18 15:29 357\n",
      "All 5 events listed\n"
     ]
    }
   ],
   "source": [
    "# Insertion Sort\n",
    "\n",
    "events = LL.generate_linked_events(5)\n",
    "events.insert_sort('date')\n",
    "events.list_all()"
   ]
  },
  {
   "cell_type": "code",
   "execution_count": null,
   "id": "9eea45aa",
   "metadata": {},
   "outputs": [
    {
     "name": "stdout",
     "output_type": "stream",
     "text": [
      "Career Fair Engineering Center 2025-03-14 16:45 281\n",
      "Career Fair Muenzinger Psychology 2025-03-22 03:22 845\n",
      "Orientation Engineering Center 2025-05-11 01:41 355\n",
      "Orientation Miramontes Baca 2025-08-23 07:04 263\n",
      "Mentor Meet Muenzinger Psychology 2025-11-28 20:11 287\n",
      "All 5 events listed\n"
     ]
    }
   ],
   "source": [
    "# Merge Sort\n",
    "\n",
    "events = LL.generate_linked_events(5)\n",
    "events.head = events.merge_sort(events.head, 'date') # Pass events.head as the first argument\n",
    "events.list_all()"
   ]
  },
  {
   "cell_type": "code",
   "execution_count": null,
   "id": "7ac113c2",
   "metadata": {},
   "outputs": [
    {
     "name": "stdout",
     "output_type": "stream",
     "text": [
      "Career Fair Engineering Center 2025-01-01 22:06 541\n",
      "Group Study IMIG Music 2025-01-01 01:06 37\n",
      "Networking Event Folsom Field 2025-07-05 18:42 508\n",
      "Hiring Event C4C 2025-10-27 06:52 203\n",
      "Mentor Meet UMC 2025-11-14 02:38 18\n",
      "All 5 events listed\n"
     ]
    }
   ],
   "source": [
    "# Quick Sort\n",
    "\n",
    "events = LL.generate_linked_events(5)\n",
    "events.head = events.quick_sort(events.head, 'date')\n",
    "events.list_all()"
   ]
  },
  {
   "cell_type": "markdown",
   "id": "4ab5535c",
   "metadata": {},
   "source": [
    "# Part C. Searching and Conflict Detection"
   ]
  },
  {
   "cell_type": "code",
   "execution_count": null,
   "id": "0ced9c0b",
   "metadata": {},
   "outputs": [
    {
     "name": "stdout",
     "output_type": "stream",
     "text": [
      "Event found. Time elapsed: 1.8835067749023438e-05\n",
      "Event found. Time elapsed: 2.09808349609375e-05\n"
     ]
    }
   ],
   "source": [
    "random.seed(40)\n",
    "# Generate some data\n",
    "events_arr = E.generate_events(n = 1000)\n",
    "events_ll = LL.generate_linked_events(n = 1000)\n",
    "\n",
    "events_arr_sorted = S.insertion_sort(events_arr.data,'id', sort_by2='id')\n",
    "\n",
    "# implement linear search, keep track of time elapsed\n",
    "# Note: we use the 500th event, because the mean time of the linear algorithm is the time\n",
    "#       taken to find the n/2 element from a list of length n.\n",
    "\n",
    "target_sorted_arr = SC.linear_search(events_arr_sorted, 500)\n",
    "\n",
    "# Search among unsorted data\n",
    "target_unsorted_arr = SC.linear_search(events_arr.data, 500)"
   ]
  },
  {
   "cell_type": "code",
   "execution_count": null,
   "id": "d6ea1f7f",
   "metadata": {},
   "outputs": [
    {
     "name": "stdout",
     "output_type": "stream",
     "text": [
      "Found. Time elapsed: 5.9604644775390625e-06\n",
      "Found. Time elapsed: 1.9073486328125e-06\n"
     ]
    }
   ],
   "source": [
    "random.seed(38)\n",
    "# Now use binary search\n",
    "target_sorted_arr = SC.binary_search(events_arr_sorted, 500)\n",
    "# Search among unsorted data\n",
    "target_unsorted_arr = SC.binary_search(events_arr.data, 500)\n",
    "\n"
   ]
  },
  {
   "cell_type": "code",
   "execution_count": null,
   "id": "1552dfea",
   "metadata": {},
   "outputs": [
    {
     "name": "stdout",
     "output_type": "stream",
     "text": [
      "406 and 697 are conflicting on 2025-01-01\n",
      "697 and 6 are conflicting on 2025-01-01\n",
      "240 and 577 are conflicting on 2025-01-01\n",
      "577 and 349 are conflicting on 2025-01-01\n",
      "87 and 597 are conflicting on 2025-01-01\n",
      "40 and 277 are conflicting on 2025-01-01\n",
      "333 and 161 are conflicting on 2025-01-01\n",
      "161 and 930 are conflicting on 2025-01-01\n",
      "930 and 37 are conflicting on 2025-01-01\n",
      "37 and 283 are conflicting on 2025-01-01\n",
      "283 and 114 are conflicting on 2025-01-01\n",
      "114 and 885 are conflicting on 2025-01-01\n",
      "885 and 377 are conflicting on 2025-01-01\n",
      "377 and 713 are conflicting on 2025-01-01\n",
      "184 and 549 are conflicting on 2025-01-01\n",
      "549 and 75 are conflicting on 2025-01-01\n",
      "75 and 520 are conflicting on 2025-01-01\n",
      "633 and 543 are conflicting on 2025-01-02\n",
      "543 and 392 are conflicting on 2025-01-02\n",
      "313 and 911 are conflicting on 2025-01-02\n",
      "280 and 583 are conflicting on 2025-01-02\n",
      "689 and 103 are conflicting on 2025-01-02\n",
      "103 and 408 are conflicting on 2025-01-02\n",
      "408 and 218 are conflicting on 2025-01-02\n",
      "456 and 910 are conflicting on 2025-01-02\n",
      "910 and 254 are conflicting on 2025-01-02\n",
      "254 and 796 are conflicting on 2025-01-02\n",
      "796 and 530 are conflicting on 2025-01-02\n",
      "530 and 346 are conflicting on 2025-01-02\n",
      "927 and 837 are conflicting on 2025-01-02\n",
      "339 and 580 are conflicting on 2025-01-03\n",
      "580 and 711 are conflicting on 2025-01-03\n",
      "765 and 590 are conflicting on 2025-01-03\n",
      "827 and 606 are conflicting on 2025-01-03\n",
      "606 and 446 are conflicting on 2025-01-03\n",
      "462 and 996 are conflicting on 2025-01-03\n",
      "996 and 430 are conflicting on 2025-01-03\n",
      "839 and 454 are conflicting on 2025-01-03\n",
      "454 and 159 are conflicting on 2025-01-03\n",
      "159 and 658 are conflicting on 2025-01-03\n",
      "658 and 139 are conflicting on 2025-01-03\n",
      "139 and 831 are conflicting on 2025-01-03\n",
      "831 and 544 are conflicting on 2025-01-03\n",
      "643 and 869 are conflicting on 2025-01-03\n",
      "869 and 378 are conflicting on 2025-01-03\n",
      "378 and 854 are conflicting on 2025-01-03\n",
      "854 and 674 are conflicting on 2025-01-03\n",
      "674 and 882 are conflicting on 2025-01-03\n",
      "882 and 546 are conflicting on 2025-01-03\n",
      "546 and 967 are conflicting on 2025-01-03\n",
      "305 and 28 are conflicting on 2025-01-03\n",
      "28 and 122 are conflicting on 2025-01-03\n",
      "122 and 234 are conflicting on 2025-01-03\n"
     ]
    },
    {
     "ename": "ValueError",
     "evalue": "hour must be in 0..23",
     "output_type": "error",
     "traceback": [
      "\u001b[31m---------------------------------------------------------------------------\u001b[39m",
      "\u001b[31mValueError\u001b[39m                                Traceback (most recent call last)",
      "\u001b[36mCell\u001b[39m\u001b[36m \u001b[39m\u001b[32mIn[17]\u001b[39m\u001b[32m, line 3\u001b[39m\n\u001b[32m      1\u001b[39m events = E.generate_events(\u001b[32m10000\u001b[39m)\n\u001b[32m----> \u001b[39m\u001b[32m3\u001b[39m \u001b[43mSC\u001b[49m\u001b[43m.\u001b[49m\u001b[43mfind_conflicts\u001b[49m\u001b[43m(\u001b[49m\u001b[43mevents\u001b[49m\u001b[43m.\u001b[49m\u001b[43mdata\u001b[49m\u001b[43m)\u001b[49m\n",
      "\u001b[36mFile \u001b[39m\u001b[32m~/Downloads/Campus-Event-Scheduler-main/src/Search_and_Conflict.py:62\u001b[39m, in \u001b[36mfind_conflicts\u001b[39m\u001b[34m(events)\u001b[39m\n\u001b[32m     60\u001b[39m \u001b[38;5;28;01mif\u001b[39;00m e1[\u001b[33m'\u001b[39m\u001b[33mdate\u001b[39m\u001b[33m'\u001b[39m] == e2[\u001b[33m'\u001b[39m\u001b[33mdate\u001b[39m\u001b[33m'\u001b[39m]:\n\u001b[32m     61\u001b[39m     t1_start = parse_datetime(e1)\n\u001b[32m---> \u001b[39m\u001b[32m62\u001b[39m     t1_end = \u001b[43mt1_start\u001b[49m\u001b[43m.\u001b[49m\u001b[43mreplace\u001b[49m\u001b[43m(\u001b[49m\u001b[43mhour\u001b[49m\u001b[43m=\u001b[49m\u001b[43mt1_start\u001b[49m\u001b[43m.\u001b[49m\u001b[43mhour\u001b[49m\u001b[43m \u001b[49m\u001b[43m+\u001b[49m\u001b[43m \u001b[49m\u001b[32;43m1\u001b[39;49m\u001b[43m)\u001b[49m\n\u001b[32m     63\u001b[39m     t2_start = parse_datetime(e2)\n\u001b[32m     65\u001b[39m     \u001b[38;5;28;01mif\u001b[39;00m t2_start < t1_end:\n",
      "\u001b[31mValueError\u001b[39m: hour must be in 0..23"
     ]
    }
   ],
   "source": [
    "events = E.generate_events(10000)\n",
    "\n",
    "SC.find_conflicts(events.data)"
   ]
  },
  {
   "cell_type": "code",
   "execution_count": null,
   "id": "3b1777ac",
   "metadata": {},
   "outputs": [
    {
     "name": "stdout",
     "output_type": "stream",
     "text": [
      "Events sorted by date\n",
      "Events sorted by date\n",
      "Events sorted by date\n"
     ]
    },
    {
     "data": {
      "text/plain": [
       "<matplotlib.legend.Legend at 0x10d57e900>"
      ]
     },
     "execution_count": 21,
     "metadata": {},
     "output_type": "execute_result"
    },
    {
     "data": {
      "image/png": "[encoded data removed]",
      "text/plain": [
       "<Figure size 600x600 with 1 Axes>"
      ]
     },
     "metadata": {},
     "output_type": "display_data"
    }
   ],
   "source": [
    "trials = [50, 500, 5000]#, 50000]\n",
    "runtimes_insertion = []\n",
    "runtimes_merge = []\n",
    "runtimes_quick = []\n",
    "\n",
    "for n in trials:\n",
    "  s1 = E.runtime(n,S.insertion_sort)\n",
    "  runtimes_insertion.append(s1)\n",
    "  s2 = E.runtime(n,S.merge_sort)\n",
    "  runtimes_merge.append(s2)\n",
    "  s3 = E.runtime(n,S.quick_sort)\n",
    "  runtimes_quick.append(s3)\n",
    "\n",
    "\n",
    "runtimes_insertion_ll = []\n",
    "runtimes_merge_ll = []\n",
    "runtimes_quick_ll = []\n",
    "\n",
    "for n in trials:\n",
    "  s1 = LL.runtime_linked(n,LL.LinkedEvents.insert_sort)\n",
    "  runtimes_insertion_ll.append(s1)\n",
    "  s2 = LL.runtime_linked(n,LL.LinkedEvents.merge_sort)\n",
    "  runtimes_merge_ll.append(s2)\n",
    "  s3 = LL.runtime_linked(n,LL.LinkedEvents.quick_sort)\n",
    "  runtimes_quick_ll.append(s3)\n",
    "\n",
    "\n",
    "# Plot Array Sorting\n",
    "\n",
    "plt.figure(figsize=(6,6))\n",
    "plt.semilogy(trials,runtimes_insertion, marker = 'o', label = 'Insertion Sort - Array')\n",
    "plt.semilogy(trials,runtimes_merge, marker = 'x', label = 'Merge Sort - Array')\n",
    "plt.semilogy(trials,runtimes_quick,marker='*',label ='Quick Sort - Array')\n",
    "\n",
    "#Plot Linked list sorting\n",
    "plt.semilogy(trials,runtimes_insertion_ll, marker = 'o', label = 'Insertion Sort - LL')\n",
    "plt.semilogy(trials,runtimes_merge_ll, marker = 'x', label = 'Merge Sort - LL')\n",
    "plt.semilogy(trials,runtimes_quick_ll,marker='*',label ='Quick Sort - LL')\n",
    "plt.title('Runtimes of Sorting Algorithms')\n",
    "plt.ylabel('Time (seconds)')\n",
    "plt.xlabel('Number of Events')\n",
    "plt.legend()\n",
    "\n",
    "\n"
   ]
  },
  {
   "cell_type": "markdown",
   "id": "9ae8dd0f",
   "metadata": {},
   "source": [
    "# Part D. Scalability Challenge"
   ]
  },
  {
   "cell_type": "markdown",
   "id": "2adb4a45",
   "metadata": {},
   "source": [
    "Memory Usage Estimation We know that the memory usage has complexity of O(n) for both array and linked list because each node in arrays and event in linked lists requires a certain amount of storage. However, linked list stores and additional pointer to the next node which would require a small amount of additional memory usage. Therefore, the linked list is still linear complexity, but would require a bit more memory than array to account for the pointer.\n",
    "\n",
    "In the plot below, we see that as we increase the number of events, memory usage increases linearly. We also estimate that for 1,000,000 events using our array algorithm, about 328 gigabytes would be used. If we were to use the linked list algorithm, this would use a bit more memory based on the previous explanation."
   ]
  },
  {
   "cell_type": "code",
   "execution_count": null,
   "id": "eaacc0f3",
   "metadata": {},
   "outputs": [
    {
     "name": "stdout",
     "output_type": "stream",
     "text": [
      "Requirement already satisfied: pympler in ./.venv/lib/python3.13/site-packages (1.1)\n"
     ]
    }
   ],
   "source": [
    "!pip install pympler\n",
    "from pympler import asizeof"
   ]
  },
  {
   "cell_type": "code",
   "execution_count": null,
   "id": "f598f8ff",
   "metadata": {},
   "outputs": [
    {
     "name": "stdout",
     "output_type": "stream",
     "text": [
      "Memory of Array = 0.000307*trials +0.002597\n",
      "For 1000000 trials, Memory of Array = 306.7409152927341 gigabytes\n"
     ]
    },
    {
     "data": {
      "image/png": "[encoded data removed]",
      "text/plain": [
       "<Figure size 640x480 with 1 Axes>"
      ]
     },
     "metadata": {},
     "output_type": "display_data"
    }
   ],
   "source": [
    "#Measure Memory Usage for Array Algorithm:\n",
    "\n",
    "import numpy as np\n",
    "\n",
    "memory_usage_a=[]\n",
    "for n in trials:\n",
    "  events = E.generate_events(n)\n",
    "  memory = asizeof.asizeof(events)\n",
    "  memory_usage_a.append(memory/1024**2)\n",
    "\n",
    "#plots Array and Linked List Memory\n",
    "plt.plot(trials,memory_usage_a, label='Array')\n",
    "plt.title('Array Memory Usage vs. Number of Events')\n",
    "plt.xlabel('Number of Events')\n",
    "plt.ylabel('Memory Usage (GB)')\n",
    "plt.legend()\n",
    "\n",
    "#finds line of best fit and plugs in 1,000,000 for number of trials to find array memory usage\n",
    "slope,intercept=np.polyfit(trials, memory_usage_a,1)\n",
    "print(f\"Memory of Array = {slope:.6f}*trials +{intercept:.6f}\")\n",
    "print('For 1000000 trials, Memory of Array =', slope*1000000 +intercept,'gigabytes')"
   ]
  },
  {
   "cell_type": "markdown",
   "id": "a422d8af",
   "metadata": {},
   "source": [
    "### Optimizations:"
   ]
  },
  {
   "cell_type": "markdown",
   "id": "d5bbb945",
   "metadata": {},
   "source": [
    "### Parallel Conflict Detection Sketch:"
   ]
  },
  {
   "cell_type": "markdown",
   "id": "b0e4577e",
   "metadata": {},
   "source": [
    "![Alt text](ParallelConflictDetection.png)\n"
   ]
  },
  {
   "cell_type": "markdown",
   "id": "22f68f2c",
   "metadata": {},
   "source": [
    "# Part E. Teamwork and Presentation"
   ]
  },
  {
   "cell_type": "markdown",
   "id": "55d2668d",
   "metadata": {},
   "source": [
    "Atharva: Designed the searching algorithms and the conflict detection function, organized code and resolved import issuees occuring across modules \n",
    "\n",
    "Griffin: Compiled and organized code into Github and Final notebook. I modified the code from all of the packages to be user-friendly. Worked on visualizations, and developed the array-based data structure.\n",
    "\n",
    "Sam: Built linked list, linked list methods, and linked list sorting algorithms.\n",
    "\n",
    "Sofie: I created the array sorting algorithms and completed the runtime trials. I also determined and calculated the memory usage for the scalability challenge."
   ]
  }
 ],
 "metadata": {
  "kernelspec": {
   "display_name": ".venv (3.13.3)",
   "language": "python",
   "name": "python3"
  },
  "language_info": {
   "codemirror_mode": {
    "name": "ipython",
    "version": 3
   },
   "file_extension": ".py",
   "mimetype": "text/x-python",
   "name": "python",
   "nbconvert_exporter": "python",
   "pygments_lexer": "ipython3",
   "version": "3.13.3"
  }
 },
 "nbformat": 4,
 "nbformat_minor": 5
}
